{
 "cells": [
  {
   "cell_type": "code",
   "execution_count": 1,
   "metadata": {},
   "outputs": [],
   "source": [
    "from rdkit import Chem\n",
    "from rdkit.Chem import AllChem\n",
    "from rdkit.Chem import rdMolTransforms\n",
    "from rdkit.Chem import Draw\n",
    "from rdkit.Chem import rdDepictor\n",
    "from rdkit.Chem.Draw import IPythonConsole\n",
    "import py3Dmol\n",
    "import draw_mols"
   ]
  },
  {
   "cell_type": "code",
   "execution_count": 6,
   "metadata": {},
   "outputs": [
    {
     "data": {
      "application/3dmoljs_load.v0": "<div id=\"3dmolviewer_17287933963714325\"  style=\"position: relative; width: 400px; height: 400px;\">\n        <p id=\"3dmolwarning_17287933963714325\" style=\"background-color:#ffcccc;color:black\">3Dmol.js failed to load for some reason.  Please check your browser console for error messages.<br></p>\n        </div>\n<script>\n\nvar loadScriptAsync = function(uri){\n  return new Promise((resolve, reject) => {\n    //this is to ignore the existence of requirejs amd\n    var savedexports, savedmodule;\n    if (typeof exports !== 'undefined') savedexports = exports;\n    else exports = {}\n    if (typeof module !== 'undefined') savedmodule = module;\n    else module = {}\n\n    var tag = document.createElement('script');\n    tag.src = uri;\n    tag.async = true;\n    tag.onload = () => {\n        exports = savedexports;\n        module = savedmodule;\n        resolve();\n    };\n  var firstScriptTag = document.getElementsByTagName('script')[0];\n  firstScriptTag.parentNode.insertBefore(tag, firstScriptTag);\n});\n};\n\nif(typeof $3Dmolpromise === 'undefined') {\n$3Dmolpromise = null;\n  $3Dmolpromise = loadScriptAsync('https://cdnjs.cloudflare.com/ajax/libs/3Dmol/2.4.0/3Dmol-min.js');\n}\n\nvar viewer_17287933963714325 = null;\nvar warn = document.getElementById(\"3dmolwarning_17287933963714325\");\nif(warn) {\n    warn.parentNode.removeChild(warn);\n}\n$3Dmolpromise.then(function() {\nviewer_17287933963714325 = $3Dmol.createViewer(document.getElementById(\"3dmolviewer_17287933963714325\"),{backgroundColor:\"white\"});\nviewer_17287933963714325.zoomTo();\n\tviewer_17287933963714325.addModel(\"\\n     RDKit          3D\\n\\n  2  1  0  0  0  0  0  0  0  0999 V2000\\n    0.3540    0.0000    0.0000 H   0  0  0  0  0  0  0  0  0  0  0  0\\n   -0.3540    0.0000    0.0000 H   0  0  0  0  0  0  0  0  0  0  0  0\\n  1  2  1  0\\nM  END\\n\",\"sdf\");\n\tviewer_17287933963714325.setStyle({\"stick\": {\"radius\": 0.15}, \"sphere\": {\"scale\": 0.25}});\n\tviewer_17287933963714325.zoomTo();\nviewer_17287933963714325.render();\n});\n</script>",
      "text/html": [
       "<div id=\"3dmolviewer_17287933963714325\"  style=\"position: relative; width: 400px; height: 400px;\">\n",
       "        <p id=\"3dmolwarning_17287933963714325\" style=\"background-color:#ffcccc;color:black\">3Dmol.js failed to load for some reason.  Please check your browser console for error messages.<br></p>\n",
       "        </div>\n",
       "<script>\n",
       "\n",
       "var loadScriptAsync = function(uri){\n",
       "  return new Promise((resolve, reject) => {\n",
       "    //this is to ignore the existence of requirejs amd\n",
       "    var savedexports, savedmodule;\n",
       "    if (typeof exports !== 'undefined') savedexports = exports;\n",
       "    else exports = {}\n",
       "    if (typeof module !== 'undefined') savedmodule = module;\n",
       "    else module = {}\n",
       "\n",
       "    var tag = document.createElement('script');\n",
       "    tag.src = uri;\n",
       "    tag.async = true;\n",
       "    tag.onload = () => {\n",
       "        exports = savedexports;\n",
       "        module = savedmodule;\n",
       "        resolve();\n",
       "    };\n",
       "  var firstScriptTag = document.getElementsByTagName('script')[0];\n",
       "  firstScriptTag.parentNode.insertBefore(tag, firstScriptTag);\n",
       "});\n",
       "};\n",
       "\n",
       "if(typeof $3Dmolpromise === 'undefined') {\n",
       "$3Dmolpromise = null;\n",
       "  $3Dmolpromise = loadScriptAsync('https://cdnjs.cloudflare.com/ajax/libs/3Dmol/2.4.0/3Dmol-min.js');\n",
       "}\n",
       "\n",
       "var viewer_17287933963714325 = null;\n",
       "var warn = document.getElementById(\"3dmolwarning_17287933963714325\");\n",
       "if(warn) {\n",
       "    warn.parentNode.removeChild(warn);\n",
       "}\n",
       "$3Dmolpromise.then(function() {\n",
       "viewer_17287933963714325 = $3Dmol.createViewer(document.getElementById(\"3dmolviewer_17287933963714325\"),{backgroundColor:\"white\"});\n",
       "viewer_17287933963714325.zoomTo();\n",
       "\tviewer_17287933963714325.addModel(\"\\n     RDKit          3D\\n\\n  2  1  0  0  0  0  0  0  0  0999 V2000\\n    0.3540    0.0000    0.0000 H   0  0  0  0  0  0  0  0  0  0  0  0\\n   -0.3540    0.0000    0.0000 H   0  0  0  0  0  0  0  0  0  0  0  0\\n  1  2  1  0\\nM  END\\n\",\"sdf\");\n",
       "\tviewer_17287933963714325.setStyle({\"stick\": {\"radius\": 0.15}, \"sphere\": {\"scale\": 0.25}});\n",
       "\tviewer_17287933963714325.zoomTo();\n",
       "viewer_17287933963714325.render();\n",
       "});\n",
       "</script>"
      ]
     },
     "metadata": {},
     "output_type": "display_data"
    }
   ],
   "source": [
    "water = \"O\"\n",
    "oxygen=\"O=O\"\n",
    "proton=\"[H+]\"\n",
    "hydrogen=\"[H]-[H]\"\n",
    "p = draw_mols.draw_3d_stick_ball(hydrogen, 0.15, 0.25)"
   ]
  },
  {
   "cell_type": "code",
   "execution_count": 4,
   "metadata": {},
   "outputs": [],
   "source": [
    "# Example SMILES strings\n",
    "smiles_list = [\n",
    "    \"CCC(C)C(=O)NC1=NC2=C(N1C3CC3)N=C(NC2=O)N(C)C4CCOC4\",  # Remdesivir\n",
    "    \"CCCCC1C(C(OC1=O)N)C2=CC=CC=C2O\",                      # Oseltamivir\n",
    "    \"CNC(=N)NC(N)=N\",                                        # Metformin\n",
    "    \"CC(C)CC1=C(C(=C(C=C1)C)O)C(=O)OCC(C)C(CC(CC(C)C)C(O)=O)C(O)=O\",  # Atorvastatin\n",
    "    \"CC(C)COC(=O)C1=C(C(=C(C=C1)Cl)C2=C(C(=CC=C2)Cl)C(=O)OCCN)OC\"     # Amlodipine\n",
    "]\n"
   ]
  },
  {
   "cell_type": "code",
   "execution_count": 5,
   "metadata": {},
   "outputs": [],
   "source": [
    "dpp4_inhibitors = [\n",
    "    \"C1CN2C(=NN=C2C(F)(F)F)CN1C(=O)C[C@@H](CC3=CC(=C(C=C3F)F)F)N\",  # Sitagliptin \n",
    "    \"C1C[C@H](N(C1)C(=O)CNC23CC4CC(C2)CC(C4)(C3)O)C#N\", # Saxagliptin \n",
    "    \"CN(C)C(=O)C1=CC=C(C=C1)N2C3=C(C(=O)N(C2=O)C)N=C(N=C3N4CCOCC4)N\", # Linagliptin\n",
    "    \"CN1C(=O)C=C(N(C1=O)CC2=CC=CC=C2C#N)N3CCC[C@H](C3)N\",# Alogliptin\n",
    "    \"N#CNC(C(=O)C1=CN(C=N1)C(C)C)C2CC2\" # Vildagliptin\n",
    "]"
   ]
  },
  {
   "cell_type": "code",
   "execution_count": 6,
   "metadata": {},
   "outputs": [],
   "source": [
    "nfa_smiles = [\n",
    "    \"CCCCCCC1=CC=C(C=C1)C3(C2=CC8=C(C=C2C4=C3C5=C(S4)C=C(S5)C=C7C(=C(C#N)C#N)C6=CC(=C(C=C6C7=O)F)F)C(C9=C8SC%10=C9SC(=C%10)C=C%12C(=C(C#N)C#N)C%11=CC(=C(C=C%11C%12=O)F)F)(C%13=CC=C(C=C%13)CCCCCC)C%14=CC=C(C=C%14)CCCCCC)C%15=CC=C(C=C%15)CCCCCC\",\n",
    "    \"CCCCCCC2(C1=CC6=C(C=C1C3=C2C=C(S3)C=C5C(=C(C#N)C#N)C4=CC=CC=C4C5=O)C(C7=C6SC(=C7)C=C9C(=C(C#N)C#N)C8=CC=CC=C8C9=O)(CCCCCC)CCCCCC)CCCCCC\",\n",
    "    \"CCCCCCCCCC2(C1=CC7=C(C=C1C3=C2C=C(S3)C4=CC=C(C5=NSN=C45)C=C6C(=O)N(C(=S)S6)CC)C(C8=C7SC(=C8)C9=CC=C(C%10=NSN=C9%10)C=C%11C(=O)N(C(=S)S%11)CC)(CCCCCCCCC)CCCCCCCCC)CCCCCCCCC\"\n",
    "]\n",
    "donors = [\n",
    "    \"CCCCCCCCC1=C(SC(=C1)C=C2C(=O)N(C(=S)S2)CC)C3=CC=C(S3)C4=C(C=C(S4)C%11=CC%10=C(C5=C(C=C(S5)C6=CC(=C(S6)C7=CC=C(S7)C8=C(C=C(S8)C=C9C(=O)N(C(=S)S9)CC)CCCCCCCC)CCCCCCCC)C(=C%10S%11)C%12=CC=C(S%12)CC(CC)CCCC)C%13=CC=C(S%13)CC(CC)CCCC)CCCCCCCC\",\n",
    "]"
   ]
  },
  {
   "cell_type": "code",
   "execution_count": 6,
   "metadata": {},
   "outputs": [],
   "source": [
    "# nano junctors\n",
    "donors_catalysis = [\n",
    "    \"CCN(CC)C1=CC2=C(C=C1)C=C(C(=O)O2)C3=NC4=CC=CC=C4S3\", #Coumarin 6\n",
    "    \"COC1=CC=C(C=C1)N(C2=CC=C(C=C2)C=C(C#N)C(=O)O)C3=CC=C(C=C3)OC\", # MTPA-CA\n",
    "    \"COC1=CC=C(C=C1)N(C2=CC=C(C=C2)Br)C3=CC=C(C=C3)OC\", # MTPA-Br\n",
    "]\n",
    "nfas_catalysis = [\n",
    "    \"C1(=NC(=C(C(=C1C#N)C2=CC(=CC=C2)C#N)C#N)C3=CC=CC=C3)C4=CC=CC=C4\", #CNP158\n",
    "]"
   ]
  },
  {
   "cell_type": "code",
   "execution_count": 7,
   "metadata": {},
   "outputs": [],
   "source": [
    "draw_mols.draw_molecule_in_black(nfas_catalysis[0])"
   ]
  },
  {
   "cell_type": "code",
   "execution_count": null,
   "metadata": {},
   "outputs": [],
   "source": []
  },
  {
   "cell_type": "code",
   "execution_count": null,
   "metadata": {},
   "outputs": [],
   "source": []
  }
 ],
 "metadata": {
  "kernelspec": {
   "display_name": "chem",
   "language": "python",
   "name": "python3"
  },
  "language_info": {
   "codemirror_mode": {
    "name": "ipython",
    "version": 3
   },
   "file_extension": ".py",
   "mimetype": "text/x-python",
   "name": "python",
   "nbconvert_exporter": "python",
   "pygments_lexer": "ipython3",
   "version": "3.10.14"
  }
 },
 "nbformat": 4,
 "nbformat_minor": 2
}

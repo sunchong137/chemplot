{
 "cells": [
  {
   "cell_type": "code",
   "execution_count": 1,
   "metadata": {},
   "outputs": [],
   "source": [
    "from rdkit import Chem\n",
    "from rdkit.Chem import AllChem\n",
    "from rdkit.Chem import rdMolTransforms\n",
    "from rdkit.Chem import Draw\n",
    "from rdkit.Chem.Draw import rdMolDraw2D\n",
    "from rdkit.Chem import rdDepictor\n",
    "from rdkit.Chem.Draw import IPythonConsole\n",
    "import py3Dmol\n",
    "import draw_mols"
   ]
  },
  {
   "cell_type": "code",
   "execution_count": 11,
   "metadata": {},
   "outputs": [
    {
     "data": {
      "application/3dmoljs_load.v0": "<div id=\"3dmolviewer_17271413617921157\"  style=\"position: relative; width: 400px; height: 400px;\">\n        <p id=\"3dmolwarning_17271413617921157\" style=\"background-color:#ffcccc;color:black\">3Dmol.js failed to load for some reason.  Please check your browser console for error messages.<br></p>\n        </div>\n<script>\n\nvar loadScriptAsync = function(uri){\n  return new Promise((resolve, reject) => {\n    //this is to ignore the existence of requirejs amd\n    var savedexports, savedmodule;\n    if (typeof exports !== 'undefined') savedexports = exports;\n    else exports = {}\n    if (typeof module !== 'undefined') savedmodule = module;\n    else module = {}\n\n    var tag = document.createElement('script');\n    tag.src = uri;\n    tag.async = true;\n    tag.onload = () => {\n        exports = savedexports;\n        module = savedmodule;\n        resolve();\n    };\n  var firstScriptTag = document.getElementsByTagName('script')[0];\n  firstScriptTag.parentNode.insertBefore(tag, firstScriptTag);\n});\n};\n\nif(typeof $3Dmolpromise === 'undefined') {\n$3Dmolpromise = null;\n  $3Dmolpromise = loadScriptAsync('https://cdnjs.cloudflare.com/ajax/libs/3Dmol/2.4.0/3Dmol-min.js');\n}\n\nvar viewer_17271413617921157 = null;\nvar warn = document.getElementById(\"3dmolwarning_17271413617921157\");\nif(warn) {\n    warn.parentNode.removeChild(warn);\n}\n$3Dmolpromise.then(function() {\nviewer_17271413617921157 = $3Dmol.createViewer(document.getElementById(\"3dmolviewer_17271413617921157\"),{backgroundColor:\"white\"});\nviewer_17271413617921157.zoomTo();\n\tviewer_17271413617921157.addModel(\"\\n     RDKit          3D\\n\\n 24 25  0  0  0  0  0  0  0  0999 V2000\\n    3.1655    1.0525    0.1249 C   0  0  0  0  0  0  0  0  0  0  0  0\\n    2.1550    0.0006    0.0812 N   0  0  0  0  0  0  0  0  0  0  0  0\\n    2.3689   -1.3381    0.0955 C   0  0  0  0  0  0  0  0  0  0  0  0\\n    1.2209   -2.0633    0.0489 N   0  0  0  0  0  0  0  0  0  0  0  0\\n    0.2666   -1.1115    0.0054 C   0  0  0  0  0  0  0  0  0  0  0  0\\n    0.8183    0.1231    0.0261 C   0  0  0  0  0  0  0  0  0  0  0  0\\n    0.0141    1.2547   -0.0042 C   0  0  0  0  0  0  0  0  0  0  0  0\\n    0.5291    2.4064   -0.0076 O   0  0  0  0  0  0  0  0  0  0  0  0\\n   -1.3515    1.0821   -0.0304 N   0  0  0  0  0  0  0  0  0  0  0  0\\n   -1.8925   -0.1930   -0.0740 C   0  0  0  0  0  0  0  0  0  0  0  0\\n   -3.1466   -0.3409   -0.1243 O   0  0  0  0  0  0  0  0  0  0  0  0\\n   -1.0785   -1.3056   -0.0643 N   0  0  0  0  0  0  0  0  0  0  0  0\\n   -1.6459   -2.6606   -0.0637 C   0  0  0  0  0  0  0  0  0  0  0  0\\n   -2.2384    2.2564   -0.0833 C   0  0  0  0  0  0  0  0  0  0  0  0\\n    3.0120    1.6821    1.0264 H   0  0  0  0  0  0  0  0  0  0  0  0\\n    4.1839    0.6111    0.1681 H   0  0  0  0  0  0  0  0  0  0  0  0\\n    3.0897    1.6829   -0.7858 H   0  0  0  0  0  0  0  0  0  0  0  0\\n    3.3520   -1.7889    0.1394 H   0  0  0  0  0  0  0  0  0  0  0  0\\n   -2.5128   -2.7207   -0.7560 H   0  0  0  0  0  0  0  0  0  0  0  0\\n   -1.9782   -2.9239    0.9624 H   0  0  0  0  0  0  0  0  0  0  0  0\\n   -0.9037   -3.4127   -0.4065 H   0  0  0  0  0  0  0  0  0  0  0  0\\n   -1.7764    3.1374    0.4111 H   0  0  0  0  0  0  0  0  0  0  0  0\\n   -3.1918    2.0618    0.4527 H   0  0  0  0  0  0  0  0  0  0  0  0\\n   -2.4593    2.5081   -1.1419 H   0  0  0  0  0  0  0  0  0  0  0  0\\n  1  2  1  0\\n  2  3  1  0\\n  3  4  2  0\\n  4  5  1  0\\n  5  6  2  0\\n  6  7  1  0\\n  7  8  2  0\\n  7  9  1  0\\n  9 10  1  0\\n 10 11  2  0\\n 10 12  1  0\\n 12 13  1  0\\n  9 14  1  0\\n  6  2  1  0\\n 12  5  1  0\\n  1 15  1  0\\n  1 16  1  0\\n  1 17  1  0\\n  3 18  1  0\\n 13 19  1  0\\n 13 20  1  0\\n 13 21  1  0\\n 14 22  1  0\\n 14 23  1  0\\n 14 24  1  0\\nM  END\\n\",\"sdf\");\n\tviewer_17271413617921157.setStyle({\"stick\": {}});\n\tviewer_17271413617921157.zoomTo();\nviewer_17271413617921157.render();\n});\n</script>",
      "text/html": [
       "<div id=\"3dmolviewer_17271413617921157\"  style=\"position: relative; width: 400px; height: 400px;\">\n",
       "        <p id=\"3dmolwarning_17271413617921157\" style=\"background-color:#ffcccc;color:black\">3Dmol.js failed to load for some reason.  Please check your browser console for error messages.<br></p>\n",
       "        </div>\n",
       "<script>\n",
       "\n",
       "var loadScriptAsync = function(uri){\n",
       "  return new Promise((resolve, reject) => {\n",
       "    //this is to ignore the existence of requirejs amd\n",
       "    var savedexports, savedmodule;\n",
       "    if (typeof exports !== 'undefined') savedexports = exports;\n",
       "    else exports = {}\n",
       "    if (typeof module !== 'undefined') savedmodule = module;\n",
       "    else module = {}\n",
       "\n",
       "    var tag = document.createElement('script');\n",
       "    tag.src = uri;\n",
       "    tag.async = true;\n",
       "    tag.onload = () => {\n",
       "        exports = savedexports;\n",
       "        module = savedmodule;\n",
       "        resolve();\n",
       "    };\n",
       "  var firstScriptTag = document.getElementsByTagName('script')[0];\n",
       "  firstScriptTag.parentNode.insertBefore(tag, firstScriptTag);\n",
       "});\n",
       "};\n",
       "\n",
       "if(typeof $3Dmolpromise === 'undefined') {\n",
       "$3Dmolpromise = null;\n",
       "  $3Dmolpromise = loadScriptAsync('https://cdnjs.cloudflare.com/ajax/libs/3Dmol/2.4.0/3Dmol-min.js');\n",
       "}\n",
       "\n",
       "var viewer_17271413617921157 = null;\n",
       "var warn = document.getElementById(\"3dmolwarning_17271413617921157\");\n",
       "if(warn) {\n",
       "    warn.parentNode.removeChild(warn);\n",
       "}\n",
       "$3Dmolpromise.then(function() {\n",
       "viewer_17271413617921157 = $3Dmol.createViewer(document.getElementById(\"3dmolviewer_17271413617921157\"),{backgroundColor:\"white\"});\n",
       "viewer_17271413617921157.zoomTo();\n",
       "\tviewer_17271413617921157.addModel(\"\\n     RDKit          3D\\n\\n 24 25  0  0  0  0  0  0  0  0999 V2000\\n    3.1655    1.0525    0.1249 C   0  0  0  0  0  0  0  0  0  0  0  0\\n    2.1550    0.0006    0.0812 N   0  0  0  0  0  0  0  0  0  0  0  0\\n    2.3689   -1.3381    0.0955 C   0  0  0  0  0  0  0  0  0  0  0  0\\n    1.2209   -2.0633    0.0489 N   0  0  0  0  0  0  0  0  0  0  0  0\\n    0.2666   -1.1115    0.0054 C   0  0  0  0  0  0  0  0  0  0  0  0\\n    0.8183    0.1231    0.0261 C   0  0  0  0  0  0  0  0  0  0  0  0\\n    0.0141    1.2547   -0.0042 C   0  0  0  0  0  0  0  0  0  0  0  0\\n    0.5291    2.4064   -0.0076 O   0  0  0  0  0  0  0  0  0  0  0  0\\n   -1.3515    1.0821   -0.0304 N   0  0  0  0  0  0  0  0  0  0  0  0\\n   -1.8925   -0.1930   -0.0740 C   0  0  0  0  0  0  0  0  0  0  0  0\\n   -3.1466   -0.3409   -0.1243 O   0  0  0  0  0  0  0  0  0  0  0  0\\n   -1.0785   -1.3056   -0.0643 N   0  0  0  0  0  0  0  0  0  0  0  0\\n   -1.6459   -2.6606   -0.0637 C   0  0  0  0  0  0  0  0  0  0  0  0\\n   -2.2384    2.2564   -0.0833 C   0  0  0  0  0  0  0  0  0  0  0  0\\n    3.0120    1.6821    1.0264 H   0  0  0  0  0  0  0  0  0  0  0  0\\n    4.1839    0.6111    0.1681 H   0  0  0  0  0  0  0  0  0  0  0  0\\n    3.0897    1.6829   -0.7858 H   0  0  0  0  0  0  0  0  0  0  0  0\\n    3.3520   -1.7889    0.1394 H   0  0  0  0  0  0  0  0  0  0  0  0\\n   -2.5128   -2.7207   -0.7560 H   0  0  0  0  0  0  0  0  0  0  0  0\\n   -1.9782   -2.9239    0.9624 H   0  0  0  0  0  0  0  0  0  0  0  0\\n   -0.9037   -3.4127   -0.4065 H   0  0  0  0  0  0  0  0  0  0  0  0\\n   -1.7764    3.1374    0.4111 H   0  0  0  0  0  0  0  0  0  0  0  0\\n   -3.1918    2.0618    0.4527 H   0  0  0  0  0  0  0  0  0  0  0  0\\n   -2.4593    2.5081   -1.1419 H   0  0  0  0  0  0  0  0  0  0  0  0\\n  1  2  1  0\\n  2  3  1  0\\n  3  4  2  0\\n  4  5  1  0\\n  5  6  2  0\\n  6  7  1  0\\n  7  8  2  0\\n  7  9  1  0\\n  9 10  1  0\\n 10 11  2  0\\n 10 12  1  0\\n 12 13  1  0\\n  9 14  1  0\\n  6  2  1  0\\n 12  5  1  0\\n  1 15  1  0\\n  1 16  1  0\\n  1 17  1  0\\n  3 18  1  0\\n 13 19  1  0\\n 13 20  1  0\\n 13 21  1  0\\n 14 22  1  0\\n 14 23  1  0\\n 14 24  1  0\\nM  END\\n\",\"sdf\");\n",
       "\tviewer_17271413617921157.setStyle({\"stick\": {}});\n",
       "\tviewer_17271413617921157.zoomTo();\n",
       "viewer_17271413617921157.render();\n",
       "});\n",
       "</script>"
      ]
     },
     "metadata": {},
     "output_type": "display_data"
    }
   ],
   "source": [
    "smiles = \"CN1C=NC2=C1C(=O)N(C(=O)N2C)C\"\n",
    "p = draw_mols.draw_3d_sticks(smiles)\n",
    "# p = draw_mols.save_molecule_png(smiles)"
   ]
  },
  {
   "cell_type": "code",
   "execution_count": 6,
   "metadata": {},
   "outputs": [
    {
     "ename": "TypeError",
     "evalue": "view.png() got an unexpected keyword argument 'data'",
     "output_type": "error",
     "traceback": [
      "\u001b[0;31m---------------------------------------------------------------------------\u001b[0m",
      "\u001b[0;31mTypeError\u001b[0m                                 Traceback (most recent call last)",
      "Cell \u001b[0;32mIn[6], line 1\u001b[0m\n\u001b[0;32m----> 1\u001b[0m png_data \u001b[38;5;241m=\u001b[39m \u001b[43mp\u001b[49m\u001b[38;5;241;43m.\u001b[39;49m\u001b[43mpng\u001b[49m\u001b[43m(\u001b[49m\u001b[43mdata\u001b[49m\u001b[38;5;241;43m=\u001b[39;49m\u001b[38;5;28;43;01mTrue\u001b[39;49;00m\u001b[43m)\u001b[49m\n\u001b[1;32m      2\u001b[0m \u001b[38;5;28;01mwith\u001b[39;00m \u001b[38;5;28mopen\u001b[39m(\u001b[38;5;124m\"\u001b[39m\u001b[38;5;124mmol.png\u001b[39m\u001b[38;5;124m\"\u001b[39m, \u001b[38;5;124m\"\u001b[39m\u001b[38;5;124mwb\u001b[39m\u001b[38;5;124m\"\u001b[39m) \u001b[38;5;28;01mas\u001b[39;00m f:\n\u001b[1;32m      3\u001b[0m     f\u001b[38;5;241m.\u001b[39mwrite(png_data)\n",
      "File \u001b[0;32m~/lopt/anaconda3/envs/chem/lib/python3.10/site-packages/py3Dmol/__init__.py:30\u001b[0m, in \u001b[0;36musing_ipython.<locals>.inner\u001b[0;34m(*args, **kwargs)\u001b[0m\n\u001b[1;32m     28\u001b[0m \u001b[38;5;28;01mif\u001b[39;00m \u001b[38;5;129;01mnot\u001b[39;00m _has_IPython:\n\u001b[1;32m     29\u001b[0m     \u001b[38;5;28;01mraise\u001b[39;00m \u001b[38;5;167;01mImportError\u001b[39;00m(\u001b[38;5;124m\"\u001b[39m\u001b[38;5;124mThis function requires an active IPython notebook.\u001b[39m\u001b[38;5;124m\"\u001b[39m)\n\u001b[0;32m---> 30\u001b[0m \u001b[38;5;28;01mreturn\u001b[39;00m \u001b[43mfunc\u001b[49m\u001b[43m(\u001b[49m\u001b[38;5;241;43m*\u001b[39;49m\u001b[43margs\u001b[49m\u001b[43m,\u001b[49m\u001b[43m \u001b[49m\u001b[38;5;241;43m*\u001b[39;49m\u001b[38;5;241;43m*\u001b[39;49m\u001b[43mkwargs\u001b[49m\u001b[43m)\u001b[49m\n",
      "\u001b[0;31mTypeError\u001b[0m: view.png() got an unexpected keyword argument 'data'"
     ]
    }
   ],
   "source": [
    "png_data = p.png(data=True)\n",
    "with open(\"mol.png\", \"wb\") as f:\n",
    "    f.write(png_data)"
   ]
  },
  {
   "cell_type": "code",
   "execution_count": 2,
   "metadata": {},
   "outputs": [],
   "source": [
    "# Function to generate 3D structure from SMILES and visualize\n",
    "def show_3d_structure(smiles_string, filename):\n",
    "    # Convert SMILES to RDKit Molecule object\n",
    "    mol = Chem.MolFromSmiles(smiles_string)\n",
    "    mol = Chem.AddHs(mol)  # Add hydrogen atoms\n",
    "    \n",
    "    # Generate 3D coordinates\n",
    "    AllChem.EmbedMolecule(mol)\n",
    "    AllChem.UFFOptimizeMolecule(mol)  # Optimize geometry with UFF force field\n",
    "    \n",
    "    # Convert RDKit molecule to a 3D structure viewable by py3Dmol\n",
    "    mb = Chem.MolToMolBlock(mol)\n",
    "    p = py3Dmol.view(width=400, height=400)\n",
    "    p.addModel(mb, 'sdf')\n",
    "    p.setStyle({'stick': {}})\n",
    "    p.zoomTo()\n",
    "    return p.show()"
   ]
  },
  {
   "cell_type": "code",
   "execution_count": 3,
   "metadata": {},
   "outputs": [],
   "source": [
    "def draw_molecule_in_black(smiles):\n",
    "    # Create the molecule object from the SMILES string\n",
    "    mol = Chem.MolFromSmiles(smiles)\n",
    "    rdDepictor.Compute2DCoords(mol)  # Generate 2D coordinates\n",
    "    \n",
    "    # Set up drawing options for black and white\n",
    "    drawer = rdMolDraw2D.MolDraw2DCairo(500, 500)  # Create a Cairo image\n",
    "    options = drawer.drawOptions()\n",
    "    options.useBWAtomPalette()  # Set the palette to black and white\n",
    "    options.setBackgroundColour((1,1,1,0))\n",
    "    # Draw the molecule\n",
    "    drawer.DrawMolecule(mol)\n",
    "    drawer.FinishDrawing()\n",
    "    \n",
    "    # Save and display the image\n",
    "    img = drawer.GetDrawingText()\n",
    "    with open(\"molecule.png\", \"wb\") as f:\n",
    "        f.write(img)"
   ]
  },
  {
   "cell_type": "code",
   "execution_count": 4,
   "metadata": {},
   "outputs": [],
   "source": [
    "# Example SMILES strings\n",
    "smiles_list = [\n",
    "    \"CCC(C)C(=O)NC1=NC2=C(N1C3CC3)N=C(NC2=O)N(C)C4CCOC4\",  # Remdesivir\n",
    "    \"CCCCC1C(C(OC1=O)N)C2=CC=CC=C2O\",                      # Oseltamivir\n",
    "    \"CNC(=N)NC(N)=N\",                                        # Metformin\n",
    "    \"CC(C)CC1=C(C(=C(C=C1)C)O)C(=O)OCC(C)C(CC(CC(C)C)C(O)=O)C(O)=O\",  # Atorvastatin\n",
    "    \"CC(C)COC(=O)C1=C(C(=C(C=C1)Cl)C2=C(C(=CC=C2)Cl)C(=O)OCCN)OC\"     # Amlodipine\n",
    "]\n"
   ]
  },
  {
   "cell_type": "code",
   "execution_count": 5,
   "metadata": {},
   "outputs": [],
   "source": [
    "dpp4_inhibitors = [\n",
    "    \"C1CN2C(=NN=C2C(F)(F)F)CN1C(=O)C[C@@H](CC3=CC(=C(C=C3F)F)F)N\",  # Sitagliptin \n",
    "    \"C1C[C@H](N(C1)C(=O)CNC23CC4CC(C2)CC(C4)(C3)O)C#N\", # Saxagliptin \n",
    "    \"CN(C)C(=O)C1=CC=C(C=C1)N2C3=C(C(=O)N(C2=O)C)N=C(N=C3N4CCOCC4)N\", # Linagliptin\n",
    "    \"CN1C(=O)C=C(N(C1=O)CC2=CC=CC=C2C#N)N3CCC[C@H](C3)N\",# Alogliptin\n",
    "    \"N#CNC(C(=O)C1=CN(C=N1)C(C)C)C2CC2\" # Vildagliptin\n",
    "]"
   ]
  },
  {
   "cell_type": "code",
   "execution_count": 6,
   "metadata": {},
   "outputs": [],
   "source": [
    "nfa_smiles = [\n",
    "    \"CCCCCCC1=CC=C(C=C1)C3(C2=CC8=C(C=C2C4=C3C5=C(S4)C=C(S5)C=C7C(=C(C#N)C#N)C6=CC(=C(C=C6C7=O)F)F)C(C9=C8SC%10=C9SC(=C%10)C=C%12C(=C(C#N)C#N)C%11=CC(=C(C=C%11C%12=O)F)F)(C%13=CC=C(C=C%13)CCCCCC)C%14=CC=C(C=C%14)CCCCCC)C%15=CC=C(C=C%15)CCCCCC\",\n",
    "    \"CCCCCCC2(C1=CC6=C(C=C1C3=C2C=C(S3)C=C5C(=C(C#N)C#N)C4=CC=CC=C4C5=O)C(C7=C6SC(=C7)C=C9C(=C(C#N)C#N)C8=CC=CC=C8C9=O)(CCCCCC)CCCCCC)CCCCCC\",\n",
    "    \"CCCCCCCCCC2(C1=CC7=C(C=C1C3=C2C=C(S3)C4=CC=C(C5=NSN=C45)C=C6C(=O)N(C(=S)S6)CC)C(C8=C7SC(=C8)C9=CC=C(C%10=NSN=C9%10)C=C%11C(=O)N(C(=S)S%11)CC)(CCCCCCCCC)CCCCCCCCC)CCCCCCCCC\"\n",
    "]\n",
    "donors = [\n",
    "    \"CCCCCCCCC1=C(SC(=C1)C=C2C(=O)N(C(=S)S2)CC)C3=CC=C(S3)C4=C(C=C(S4)C%11=CC%10=C(C5=C(C=C(S5)C6=CC(=C(S6)C7=CC=C(S7)C8=C(C=C(S8)C=C9C(=O)N(C(=S)S9)CC)CCCCCCCC)CCCCCCCC)C(=C%10S%11)C%12=CC=C(S%12)CC(CC)CCCC)C%13=CC=C(S%13)CC(CC)CCCC)CCCCCCCC\",\n",
    "]"
   ]
  },
  {
   "cell_type": "code",
   "execution_count": 7,
   "metadata": {},
   "outputs": [],
   "source": [
    "# show_3d_structure(nfa_smiles[0], \"Remdesivir\")"
   ]
  },
  {
   "cell_type": "code",
   "execution_count": 4,
   "metadata": {},
   "outputs": [],
   "source": [
    "smiles = \"CCCCC(CC)CC1=C(C=C(S1)C2=C3C=C(SC3=C(C4=C2SC(=C4)C5=CC=C(S5)C6=C7C(=C(S6)C8=CC=C(S8)C)C(=O)C9=C(SC(=C9C7=O)CC(CC)CCCC)CC(CC)CCCC)C1=CC(=C(S1)CC(CC)CCCC)F)C)F\"\n",
    "draw_molecule_in_black(smiles)"
   ]
  },
  {
   "cell_type": "code",
   "execution_count": null,
   "metadata": {},
   "outputs": [],
   "source": []
  },
  {
   "cell_type": "code",
   "execution_count": null,
   "metadata": {},
   "outputs": [],
   "source": []
  }
 ],
 "metadata": {
  "kernelspec": {
   "display_name": "chem",
   "language": "python",
   "name": "python3"
  },
  "language_info": {
   "codemirror_mode": {
    "name": "ipython",
    "version": 3
   },
   "file_extension": ".py",
   "mimetype": "text/x-python",
   "name": "python",
   "nbconvert_exporter": "python",
   "pygments_lexer": "ipython3",
   "version": "3.10.14"
  }
 },
 "nbformat": 4,
 "nbformat_minor": 2
}

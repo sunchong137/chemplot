{
 "cells": [
  {
   "cell_type": "code",
   "execution_count": 3,
   "metadata": {},
   "outputs": [],
   "source": [
    "import draw_mols"
   ]
  },
  {
   "cell_type": "code",
   "execution_count": 4,
   "metadata": {},
   "outputs": [],
   "source": [
    "# Example SMILES strings\n",
    "smiles_list = [\n",
    "    \"CCC(C)C(=O)NC1=NC2=C(N1C3CC3)N=C(NC2=O)N(C)C4CCOC4\",  # Remdesivir\n",
    "    \"CCCCC1C(C(OC1=O)N)C2=CC=CC=C2O\",                      # Oseltamivir\n",
    "    \"CNC(=N)NC(N)=N\",                                        # Metformin\n",
    "    \"CC(C)CC1=C(C(=C(C=C1)C)O)C(=O)OCC(C)C(CC(CC(C)C)C(O)=O)C(O)=O\",  # Atorvastatin\n",
    "    \"CC(C)COC(=O)C1=C(C(=C(C=C1)Cl)C2=C(C(=CC=C2)Cl)C(=O)OCCN)OC\"     # Amlodipine\n",
    "]\n"
   ]
  },
  {
   "cell_type": "code",
   "execution_count": 5,
   "metadata": {},
   "outputs": [
    {
     "data": {
      "application/3dmoljs_load.v0": "<div id=\"3dmolviewer_17290958653254356\"  style=\"position: relative; width: 400px; height: 400px;\">\n        <p id=\"3dmolwarning_17290958653254356\" style=\"background-color:#ffcccc;color:black\">3Dmol.js failed to load for some reason.  Please check your browser console for error messages.<br></p>\n        </div>\n<script>\n\nvar loadScriptAsync = function(uri){\n  return new Promise((resolve, reject) => {\n    //this is to ignore the existence of requirejs amd\n    var savedexports, savedmodule;\n    if (typeof exports !== 'undefined') savedexports = exports;\n    else exports = {}\n    if (typeof module !== 'undefined') savedmodule = module;\n    else module = {}\n\n    var tag = document.createElement('script');\n    tag.src = uri;\n    tag.async = true;\n    tag.onload = () => {\n        exports = savedexports;\n        module = savedmodule;\n        resolve();\n    };\n  var firstScriptTag = document.getElementsByTagName('script')[0];\n  firstScriptTag.parentNode.insertBefore(tag, firstScriptTag);\n});\n};\n\nif(typeof $3Dmolpromise === 'undefined') {\n$3Dmolpromise = null;\n  $3Dmolpromise = loadScriptAsync('https://cdnjs.cloudflare.com/ajax/libs/3Dmol/2.4.0/3Dmol-min.js');\n}\n\nvar viewer_17290958653254356 = null;\nvar warn = document.getElementById(\"3dmolwarning_17290958653254356\");\nif(warn) {\n    warn.parentNode.removeChild(warn);\n}\n$3Dmolpromise.then(function() {\nviewer_17290958653254356 = $3Dmol.createViewer(document.getElementById(\"3dmolviewer_17290958653254356\"),{backgroundColor:\"white\"});\nviewer_17290958653254356.zoomTo();\n\tviewer_17290958653254356.addModel(\"\\n     RDKit          3D\\n\\n 53 56  0  0  0  0  0  0  0  0999 V2000\\n    5.4187   -1.5326   -1.2167 C   0  0  0  0  0  0  0  0  0  0  0  0\\n    5.9398   -0.7993    0.0186 C   0  0  0  0  0  0  0  0  0  0  0  0\\n    5.6136    0.7089   -0.0113 C   0  0  0  0  0  0  0  0  0  0  0  0\\n    6.2840    1.4308    1.1623 C   0  0  0  0  0  0  0  0  0  0  0  0\\n    4.1270    0.9762    0.0015 C   0  0  0  0  0  0  0  0  0  0  0  0\\n    3.6442    1.7826   -0.8381 O   0  0  0  0  0  0  0  0  0  0  0  0\\n    3.2830    0.3937    1.0047 N   0  0  0  0  0  0  0  0  0  0  0  0\\n    1.8656    0.5909    1.0256 C   0  0  0  0  0  0  0  0  0  0  0  0\\n    1.2400    1.1579    2.0929 N   0  0  0  0  0  0  0  0  0  0  0  0\\n   -0.0589    0.9683    1.8035 C   0  0  0  0  0  0  0  0  0  0  0  0\\n   -0.1944    0.2923    0.6411 C   0  0  0  0  0  0  0  0  0  0  0  0\\n    1.0140    0.0534    0.1057 N   0  0  0  0  0  0  0  0  0  0  0  0\\n    1.3502   -0.8792   -0.9748 C   0  0  0  0  0  0  0  0  0  0  0  0\\n    0.4210   -0.8419   -2.1829 C   0  0  0  0  0  0  0  0  0  0  0  0\\n    1.7908   -0.1956   -2.2597 C   0  0  0  0  0  0  0  0  0  0  0  0\\n   -1.3963   -0.1488    0.1996 N   0  0  0  0  0  0  0  0  0  0  0  0\\n   -2.5159    0.1513    0.9287 C   0  0  0  0  0  0  0  0  0  0  0  0\\n   -2.3971    0.8464    2.1136 N   0  0  0  0  0  0  0  0  0  0  0  0\\n   -1.1757    1.2551    2.5737 C   0  0  0  0  0  0  0  0  0  0  0  0\\n   -1.0692    1.8584    3.6748 O   0  0  0  0  0  0  0  0  0  0  0  0\\n   -3.8024   -0.3033    0.4669 N   0  0  0  0  0  0  0  0  0  0  0  0\\n   -3.8789   -1.6315   -0.1554 C   0  0  0  0  0  0  0  0  0  0  0  0\\n   -5.0077    0.5294    0.6676 C   0  0  0  0  0  0  0  0  0  0  0  0\\n   -5.7989    0.7130   -0.6102 C   0  0  0  0  0  0  0  0  0  0  0  0\\n   -7.1190    0.0099   -0.3355 C   0  0  0  0  0  0  0  0  0  0  0  0\\n   -7.0090   -0.7402    0.8506 O   0  0  0  0  0  0  0  0  0  0  0  0\\n   -5.9940   -0.1381    1.6141 C   0  0  0  0  0  0  0  0  0  0  0  0\\n    5.8089   -1.0598   -2.1430 H   0  0  0  0  0  0  0  0  0  0  0  0\\n    5.7547   -2.5905   -1.1893 H   0  0  0  0  0  0  0  0  0  0  0  0\\n    4.3105   -1.5202   -1.2354 H   0  0  0  0  0  0  0  0  0  0  0  0\\n    7.0435   -0.9311    0.0532 H   0  0  0  0  0  0  0  0  0  0  0  0\\n    5.5194   -1.2748    0.9308 H   0  0  0  0  0  0  0  0  0  0  0  0\\n    6.0429    1.1336   -0.9470 H   0  0  0  0  0  0  0  0  0  0  0  0\\n    7.3870    1.3123    1.1034 H   0  0  0  0  0  0  0  0  0  0  0  0\\n    5.9345    1.0204    2.1336 H   0  0  0  0  0  0  0  0  0  0  0  0\\n    6.0519    2.5170    1.1269 H   0  0  0  0  0  0  0  0  0  0  0  0\\n    3.7243   -0.0031    1.8635 H   0  0  0  0  0  0  0  0  0  0  0  0\\n    1.8184   -1.8527   -0.7180 H   0  0  0  0  0  0  0  0  0  0  0  0\\n   -0.3969   -0.0916   -2.1867 H   0  0  0  0  0  0  0  0  0  0  0  0\\n    0.3524   -1.7951   -2.7481 H   0  0  0  0  0  0  0  0  0  0  0  0\\n    1.7339    0.9130   -2.2803 H   0  0  0  0  0  0  0  0  0  0  0  0\\n    2.5175   -0.7695   -2.8721 H   0  0  0  0  0  0  0  0  0  0  0  0\\n   -3.2404    1.0296    2.7022 H   0  0  0  0  0  0  0  0  0  0  0  0\\n   -3.4422   -2.3907    0.5275 H   0  0  0  0  0  0  0  0  0  0  0  0\\n   -3.3144   -1.6320   -1.1116 H   0  0  0  0  0  0  0  0  0  0  0  0\\n   -4.9272   -1.9250   -0.3672 H   0  0  0  0  0  0  0  0  0  0  0  0\\n   -4.7301    1.5338    1.0585 H   0  0  0  0  0  0  0  0  0  0  0  0\\n   -5.9761    1.7926   -0.8127 H   0  0  0  0  0  0  0  0  0  0  0  0\\n   -5.2880    0.2730   -1.4942 H   0  0  0  0  0  0  0  0  0  0  0  0\\n   -7.9373    0.7546   -0.2216 H   0  0  0  0  0  0  0  0  0  0  0  0\\n   -7.3760   -0.6683   -1.1769 H   0  0  0  0  0  0  0  0  0  0  0  0\\n   -5.4960   -0.9041    2.2466 H   0  0  0  0  0  0  0  0  0  0  0  0\\n   -6.4499    0.6207    2.2882 H   0  0  0  0  0  0  0  0  0  0  0  0\\n  1  2  1  0\\n  2  3  1  0\\n  3  4  1  0\\n  3  5  1  0\\n  5  6  2  0\\n  5  7  1  0\\n  7  8  1  0\\n  8  9  2  0\\n  9 10  1  0\\n 10 11  2  0\\n 11 12  1  0\\n 12 13  1  0\\n 13 14  1  0\\n 14 15  1  0\\n 11 16  1  0\\n 16 17  2  0\\n 17 18  1  0\\n 18 19  1  0\\n 19 20  2  0\\n 17 21  1  0\\n 21 22  1  0\\n 21 23  1  0\\n 23 24  1  0\\n 24 25  1  0\\n 25 26  1  0\\n 26 27  1  0\\n 12  8  1  0\\n 19 10  1  0\\n 15 13  1  0\\n 27 23  1  0\\n  1 28  1  0\\n  1 29  1  0\\n  1 30  1  0\\n  2 31  1  0\\n  2 32  1  0\\n  3 33  1  0\\n  4 34  1  0\\n  4 35  1  0\\n  4 36  1  0\\n  7 37  1  0\\n 13 38  1  0\\n 14 39  1  0\\n 14 40  1  0\\n 15 41  1  0\\n 15 42  1  0\\n 18 43  1  0\\n 22 44  1  0\\n 22 45  1  0\\n 22 46  1  0\\n 23 47  1  0\\n 24 48  1  0\\n 24 49  1  0\\n 25 50  1  0\\n 25 51  1  0\\n 27 52  1  0\\n 27 53  1  0\\nM  END\\n\",\"sdf\");\n\tviewer_17290958653254356.setStyle({\"stick\": {\"radius\": 0.15}, \"sphere\": {\"scale\": 0.25}});\n\tviewer_17290958653254356.zoomTo();\nviewer_17290958653254356.render();\n});\n</script>",
      "text/html": [
       "<div id=\"3dmolviewer_17290958653254356\"  style=\"position: relative; width: 400px; height: 400px;\">\n",
       "        <p id=\"3dmolwarning_17290958653254356\" style=\"background-color:#ffcccc;color:black\">3Dmol.js failed to load for some reason.  Please check your browser console for error messages.<br></p>\n",
       "        </div>\n",
       "<script>\n",
       "\n",
       "var loadScriptAsync = function(uri){\n",
       "  return new Promise((resolve, reject) => {\n",
       "    //this is to ignore the existence of requirejs amd\n",
       "    var savedexports, savedmodule;\n",
       "    if (typeof exports !== 'undefined') savedexports = exports;\n",
       "    else exports = {}\n",
       "    if (typeof module !== 'undefined') savedmodule = module;\n",
       "    else module = {}\n",
       "\n",
       "    var tag = document.createElement('script');\n",
       "    tag.src = uri;\n",
       "    tag.async = true;\n",
       "    tag.onload = () => {\n",
       "        exports = savedexports;\n",
       "        module = savedmodule;\n",
       "        resolve();\n",
       "    };\n",
       "  var firstScriptTag = document.getElementsByTagName('script')[0];\n",
       "  firstScriptTag.parentNode.insertBefore(tag, firstScriptTag);\n",
       "});\n",
       "};\n",
       "\n",
       "if(typeof $3Dmolpromise === 'undefined') {\n",
       "$3Dmolpromise = null;\n",
       "  $3Dmolpromise = loadScriptAsync('https://cdnjs.cloudflare.com/ajax/libs/3Dmol/2.4.0/3Dmol-min.js');\n",
       "}\n",
       "\n",
       "var viewer_17290958653254356 = null;\n",
       "var warn = document.getElementById(\"3dmolwarning_17290958653254356\");\n",
       "if(warn) {\n",
       "    warn.parentNode.removeChild(warn);\n",
       "}\n",
       "$3Dmolpromise.then(function() {\n",
       "viewer_17290958653254356 = $3Dmol.createViewer(document.getElementById(\"3dmolviewer_17290958653254356\"),{backgroundColor:\"white\"});\n",
       "viewer_17290958653254356.zoomTo();\n",
       "\tviewer_17290958653254356.addModel(\"\\n     RDKit          3D\\n\\n 53 56  0  0  0  0  0  0  0  0999 V2000\\n    5.4187   -1.5326   -1.2167 C   0  0  0  0  0  0  0  0  0  0  0  0\\n    5.9398   -0.7993    0.0186 C   0  0  0  0  0  0  0  0  0  0  0  0\\n    5.6136    0.7089   -0.0113 C   0  0  0  0  0  0  0  0  0  0  0  0\\n    6.2840    1.4308    1.1623 C   0  0  0  0  0  0  0  0  0  0  0  0\\n    4.1270    0.9762    0.0015 C   0  0  0  0  0  0  0  0  0  0  0  0\\n    3.6442    1.7826   -0.8381 O   0  0  0  0  0  0  0  0  0  0  0  0\\n    3.2830    0.3937    1.0047 N   0  0  0  0  0  0  0  0  0  0  0  0\\n    1.8656    0.5909    1.0256 C   0  0  0  0  0  0  0  0  0  0  0  0\\n    1.2400    1.1579    2.0929 N   0  0  0  0  0  0  0  0  0  0  0  0\\n   -0.0589    0.9683    1.8035 C   0  0  0  0  0  0  0  0  0  0  0  0\\n   -0.1944    0.2923    0.6411 C   0  0  0  0  0  0  0  0  0  0  0  0\\n    1.0140    0.0534    0.1057 N   0  0  0  0  0  0  0  0  0  0  0  0\\n    1.3502   -0.8792   -0.9748 C   0  0  0  0  0  0  0  0  0  0  0  0\\n    0.4210   -0.8419   -2.1829 C   0  0  0  0  0  0  0  0  0  0  0  0\\n    1.7908   -0.1956   -2.2597 C   0  0  0  0  0  0  0  0  0  0  0  0\\n   -1.3963   -0.1488    0.1996 N   0  0  0  0  0  0  0  0  0  0  0  0\\n   -2.5159    0.1513    0.9287 C   0  0  0  0  0  0  0  0  0  0  0  0\\n   -2.3971    0.8464    2.1136 N   0  0  0  0  0  0  0  0  0  0  0  0\\n   -1.1757    1.2551    2.5737 C   0  0  0  0  0  0  0  0  0  0  0  0\\n   -1.0692    1.8584    3.6748 O   0  0  0  0  0  0  0  0  0  0  0  0\\n   -3.8024   -0.3033    0.4669 N   0  0  0  0  0  0  0  0  0  0  0  0\\n   -3.8789   -1.6315   -0.1554 C   0  0  0  0  0  0  0  0  0  0  0  0\\n   -5.0077    0.5294    0.6676 C   0  0  0  0  0  0  0  0  0  0  0  0\\n   -5.7989    0.7130   -0.6102 C   0  0  0  0  0  0  0  0  0  0  0  0\\n   -7.1190    0.0099   -0.3355 C   0  0  0  0  0  0  0  0  0  0  0  0\\n   -7.0090   -0.7402    0.8506 O   0  0  0  0  0  0  0  0  0  0  0  0\\n   -5.9940   -0.1381    1.6141 C   0  0  0  0  0  0  0  0  0  0  0  0\\n    5.8089   -1.0598   -2.1430 H   0  0  0  0  0  0  0  0  0  0  0  0\\n    5.7547   -2.5905   -1.1893 H   0  0  0  0  0  0  0  0  0  0  0  0\\n    4.3105   -1.5202   -1.2354 H   0  0  0  0  0  0  0  0  0  0  0  0\\n    7.0435   -0.9311    0.0532 H   0  0  0  0  0  0  0  0  0  0  0  0\\n    5.5194   -1.2748    0.9308 H   0  0  0  0  0  0  0  0  0  0  0  0\\n    6.0429    1.1336   -0.9470 H   0  0  0  0  0  0  0  0  0  0  0  0\\n    7.3870    1.3123    1.1034 H   0  0  0  0  0  0  0  0  0  0  0  0\\n    5.9345    1.0204    2.1336 H   0  0  0  0  0  0  0  0  0  0  0  0\\n    6.0519    2.5170    1.1269 H   0  0  0  0  0  0  0  0  0  0  0  0\\n    3.7243   -0.0031    1.8635 H   0  0  0  0  0  0  0  0  0  0  0  0\\n    1.8184   -1.8527   -0.7180 H   0  0  0  0  0  0  0  0  0  0  0  0\\n   -0.3969   -0.0916   -2.1867 H   0  0  0  0  0  0  0  0  0  0  0  0\\n    0.3524   -1.7951   -2.7481 H   0  0  0  0  0  0  0  0  0  0  0  0\\n    1.7339    0.9130   -2.2803 H   0  0  0  0  0  0  0  0  0  0  0  0\\n    2.5175   -0.7695   -2.8721 H   0  0  0  0  0  0  0  0  0  0  0  0\\n   -3.2404    1.0296    2.7022 H   0  0  0  0  0  0  0  0  0  0  0  0\\n   -3.4422   -2.3907    0.5275 H   0  0  0  0  0  0  0  0  0  0  0  0\\n   -3.3144   -1.6320   -1.1116 H   0  0  0  0  0  0  0  0  0  0  0  0\\n   -4.9272   -1.9250   -0.3672 H   0  0  0  0  0  0  0  0  0  0  0  0\\n   -4.7301    1.5338    1.0585 H   0  0  0  0  0  0  0  0  0  0  0  0\\n   -5.9761    1.7926   -0.8127 H   0  0  0  0  0  0  0  0  0  0  0  0\\n   -5.2880    0.2730   -1.4942 H   0  0  0  0  0  0  0  0  0  0  0  0\\n   -7.9373    0.7546   -0.2216 H   0  0  0  0  0  0  0  0  0  0  0  0\\n   -7.3760   -0.6683   -1.1769 H   0  0  0  0  0  0  0  0  0  0  0  0\\n   -5.4960   -0.9041    2.2466 H   0  0  0  0  0  0  0  0  0  0  0  0\\n   -6.4499    0.6207    2.2882 H   0  0  0  0  0  0  0  0  0  0  0  0\\n  1  2  1  0\\n  2  3  1  0\\n  3  4  1  0\\n  3  5  1  0\\n  5  6  2  0\\n  5  7  1  0\\n  7  8  1  0\\n  8  9  2  0\\n  9 10  1  0\\n 10 11  2  0\\n 11 12  1  0\\n 12 13  1  0\\n 13 14  1  0\\n 14 15  1  0\\n 11 16  1  0\\n 16 17  2  0\\n 17 18  1  0\\n 18 19  1  0\\n 19 20  2  0\\n 17 21  1  0\\n 21 22  1  0\\n 21 23  1  0\\n 23 24  1  0\\n 24 25  1  0\\n 25 26  1  0\\n 26 27  1  0\\n 12  8  1  0\\n 19 10  1  0\\n 15 13  1  0\\n 27 23  1  0\\n  1 28  1  0\\n  1 29  1  0\\n  1 30  1  0\\n  2 31  1  0\\n  2 32  1  0\\n  3 33  1  0\\n  4 34  1  0\\n  4 35  1  0\\n  4 36  1  0\\n  7 37  1  0\\n 13 38  1  0\\n 14 39  1  0\\n 14 40  1  0\\n 15 41  1  0\\n 15 42  1  0\\n 18 43  1  0\\n 22 44  1  0\\n 22 45  1  0\\n 22 46  1  0\\n 23 47  1  0\\n 24 48  1  0\\n 24 49  1  0\\n 25 50  1  0\\n 25 51  1  0\\n 27 52  1  0\\n 27 53  1  0\\nM  END\\n\",\"sdf\");\n",
       "\tviewer_17290958653254356.setStyle({\"stick\": {\"radius\": 0.15}, \"sphere\": {\"scale\": 0.25}});\n",
       "\tviewer_17290958653254356.zoomTo();\n",
       "viewer_17290958653254356.render();\n",
       "});\n",
       "</script>"
      ]
     },
     "metadata": {},
     "output_type": "display_data"
    }
   ],
   "source": [
    "p = draw_mols.draw_3d_stick_ball(smiles_list[0], 0.15, 0.25) # 0.15 is stick radius, 0.25 ball size."
   ]
  },
  {
   "cell_type": "code",
   "execution_count": 7,
   "metadata": {},
   "outputs": [
    {
     "data": {
      "application/3dmoljs_load.v0": "<div id=\"3dmolviewer_1729095893639928\"  style=\"position: relative; width: 400px; height: 400px;\">\n        <p id=\"3dmolwarning_1729095893639928\" style=\"background-color:#ffcccc;color:black\">3Dmol.js failed to load for some reason.  Please check your browser console for error messages.<br></p>\n        </div>\n<script>\n\nvar loadScriptAsync = function(uri){\n  return new Promise((resolve, reject) => {\n    //this is to ignore the existence of requirejs amd\n    var savedexports, savedmodule;\n    if (typeof exports !== 'undefined') savedexports = exports;\n    else exports = {}\n    if (typeof module !== 'undefined') savedmodule = module;\n    else module = {}\n\n    var tag = document.createElement('script');\n    tag.src = uri;\n    tag.async = true;\n    tag.onload = () => {\n        exports = savedexports;\n        module = savedmodule;\n        resolve();\n    };\n  var firstScriptTag = document.getElementsByTagName('script')[0];\n  firstScriptTag.parentNode.insertBefore(tag, firstScriptTag);\n});\n};\n\nif(typeof $3Dmolpromise === 'undefined') {\n$3Dmolpromise = null;\n  $3Dmolpromise = loadScriptAsync('https://cdnjs.cloudflare.com/ajax/libs/3Dmol/2.4.0/3Dmol-min.js');\n}\n\nvar viewer_1729095893639928 = null;\nvar warn = document.getElementById(\"3dmolwarning_1729095893639928\");\nif(warn) {\n    warn.parentNode.removeChild(warn);\n}\n$3Dmolpromise.then(function() {\nviewer_1729095893639928 = $3Dmol.createViewer(document.getElementById(\"3dmolviewer_1729095893639928\"),{backgroundColor:\"white\"});\nviewer_1729095893639928.zoomTo();\n\tviewer_1729095893639928.addModel(\"\\n     RDKit          3D\\n\\n 53 56  0  0  0  0  0  0  0  0999 V2000\\n   -7.4816    1.7229   -0.3034 C   0  0  0  0  0  0  0  0  0  0  0  0\\n   -6.1383    1.4241   -0.9697 C   0  0  0  0  0  0  0  0  0  0  0  0\\n   -5.4434    0.1766   -0.3804 C   0  0  0  0  0  0  0  0  0  0  0  0\\n   -6.1632   -1.1221   -0.7653 C   0  0  0  0  0  0  0  0  0  0  0  0\\n   -4.0081    0.1074   -0.8409 C   0  0  0  0  0  0  0  0  0  0  0  0\\n   -3.7374    0.2665   -2.0632 O   0  0  0  0  0  0  0  0  0  0  0  0\\n   -2.9679   -0.2052    0.0993 N   0  0  0  0  0  0  0  0  0  0  0  0\\n   -1.5693   -0.1812   -0.2280 C   0  0  0  0  0  0  0  0  0  0  0  0\\n   -1.0818    0.3620   -1.3800 N   0  0  0  0  0  0  0  0  0  0  0  0\\n    0.2489    0.2355   -1.2205 C   0  0  0  0  0  0  0  0  0  0  0  0\\n    0.5348   -0.3465   -0.0361 C   0  0  0  0  0  0  0  0  0  0  0  0\\n   -0.6001   -0.6392    0.6113 N   0  0  0  0  0  0  0  0  0  0  0  0\\n   -0.7463   -1.1758    1.9647 C   0  0  0  0  0  0  0  0  0  0  0  0\\n   -0.0140   -2.4893    2.1961 C   0  0  0  0  0  0  0  0  0  0  0  0\\n   -1.5230   -2.4818    2.0262 C   0  0  0  0  0  0  0  0  0  0  0  0\\n    1.8042   -0.5505    0.3871 N   0  0  0  0  0  0  0  0  0  0  0  0\\n    2.8348   -0.1573   -0.4251 C   0  0  0  0  0  0  0  0  0  0  0  0\\n    2.5639    0.4238   -1.6464 N   0  0  0  0  0  0  0  0  0  0  0  0\\n    1.2769    0.6357   -2.0601 C   0  0  0  0  0  0  0  0  0  0  0  0\\n    1.0361    1.1763   -3.1723 O   0  0  0  0  0  0  0  0  0  0  0  0\\n    4.1945   -0.3728    0.0050 N   0  0  0  0  0  0  0  0  0  0  0  0\\n    4.4838   -1.6282    0.7119 C   0  0  0  0  0  0  0  0  0  0  0  0\\n    5.2558    0.6043   -0.3372 C   0  0  0  0  0  0  0  0  0  0  0  0\\n    6.5021    0.4953    0.5053 C   0  0  0  0  0  0  0  0  0  0  0  0\\n    7.0388    1.9100    0.4870 C   0  0  0  0  0  0  0  0  0  0  0  0\\n    5.9716    2.8061    0.2814 O   0  0  0  0  0  0  0  0  0  0  0  0\\n    4.8340    2.0433   -0.0534 C   0  0  0  0  0  0  0  0  0  0  0  0\\n   -7.8834    2.6801   -0.6974 H   0  0  0  0  0  0  0  0  0  0  0  0\\n   -7.3567    1.8206    0.7955 H   0  0  0  0  0  0  0  0  0  0  0  0\\n   -8.2187    0.9233   -0.5221 H   0  0  0  0  0  0  0  0  0  0  0  0\\n   -6.2927    1.3004   -2.0642 H   0  0  0  0  0  0  0  0  0  0  0  0\\n   -5.4829    2.3106   -0.8201 H   0  0  0  0  0  0  0  0  0  0  0  0\\n   -5.4532    0.2631    0.7289 H   0  0  0  0  0  0  0  0  0  0  0  0\\n   -5.6036   -1.9986   -0.3721 H   0  0  0  0  0  0  0  0  0  0  0  0\\n   -6.2423   -1.2170   -1.8699 H   0  0  0  0  0  0  0  0  0  0  0  0\\n   -7.1811   -1.1505   -0.3250 H   0  0  0  0  0  0  0  0  0  0  0  0\\n   -3.2445   -0.4621    1.0728 H   0  0  0  0  0  0  0  0  0  0  0  0\\n   -0.8448   -0.4730    2.8186 H   0  0  0  0  0  0  0  0  0  0  0  0\\n    0.5286   -2.9103    1.3228 H   0  0  0  0  0  0  0  0  0  0  0  0\\n    0.3190   -2.6524    3.2429 H   0  0  0  0  0  0  0  0  0  0  0  0\\n   -2.0890   -2.6299    2.9695 H   0  0  0  0  0  0  0  0  0  0  0  0\\n   -1.8700   -2.8819    1.0490 H   0  0  0  0  0  0  0  0  0  0  0  0\\n    3.3452    0.6958   -2.2834 H   0  0  0  0  0  0  0  0  0  0  0  0\\n    3.8815   -2.4579    0.2827 H   0  0  0  0  0  0  0  0  0  0  0  0\\n    4.2317   -1.5168    1.7870 H   0  0  0  0  0  0  0  0  0  0  0  0\\n    5.5481   -1.9225    0.6074 H   0  0  0  0  0  0  0  0  0  0  0  0\\n    5.5316    0.4994   -1.4104 H   0  0  0  0  0  0  0  0  0  0  0  0\\n    7.2332   -0.2249    0.0780 H   0  0  0  0  0  0  0  0  0  0  0  0\\n    6.2548    0.2210    1.5552 H   0  0  0  0  0  0  0  0  0  0  0  0\\n    7.7700    2.0269   -0.3422 H   0  0  0  0  0  0  0  0  0  0  0  0\\n    7.5488    2.1461    1.4454 H   0  0  0  0  0  0  0  0  0  0  0  0\\n    4.1219    2.0805    0.8005 H   0  0  0  0  0  0  0  0  0  0  0  0\\n    4.3424    2.4903   -0.9430 H   0  0  0  0  0  0  0  0  0  0  0  0\\n  1  2  1  0\\n  2  3  1  0\\n  3  4  1  0\\n  3  5  1  0\\n  5  6  2  0\\n  5  7  1  0\\n  7  8  1  0\\n  8  9  2  0\\n  9 10  1  0\\n 10 11  2  0\\n 11 12  1  0\\n 12 13  1  0\\n 13 14  1  0\\n 14 15  1  0\\n 11 16  1  0\\n 16 17  2  0\\n 17 18  1  0\\n 18 19  1  0\\n 19 20  2  0\\n 17 21  1  0\\n 21 22  1  0\\n 21 23  1  0\\n 23 24  1  0\\n 24 25  1  0\\n 25 26  1  0\\n 26 27  1  0\\n 12  8  1  0\\n 19 10  1  0\\n 15 13  1  0\\n 27 23  1  0\\n  1 28  1  0\\n  1 29  1  0\\n  1 30  1  0\\n  2 31  1  0\\n  2 32  1  0\\n  3 33  1  0\\n  4 34  1  0\\n  4 35  1  0\\n  4 36  1  0\\n  7 37  1  0\\n 13 38  1  0\\n 14 39  1  0\\n 14 40  1  0\\n 15 41  1  0\\n 15 42  1  0\\n 18 43  1  0\\n 22 44  1  0\\n 22 45  1  0\\n 22 46  1  0\\n 23 47  1  0\\n 24 48  1  0\\n 24 49  1  0\\n 25 50  1  0\\n 25 51  1  0\\n 27 52  1  0\\n 27 53  1  0\\nM  END\\n\",\"sdf\");\n\tviewer_1729095893639928.setStyle({\"stick\": {}});\n\tviewer_1729095893639928.zoomTo();\nviewer_1729095893639928.render();\n});\n</script>",
      "text/html": [
       "<div id=\"3dmolviewer_1729095893639928\"  style=\"position: relative; width: 400px; height: 400px;\">\n",
       "        <p id=\"3dmolwarning_1729095893639928\" style=\"background-color:#ffcccc;color:black\">3Dmol.js failed to load for some reason.  Please check your browser console for error messages.<br></p>\n",
       "        </div>\n",
       "<script>\n",
       "\n",
       "var loadScriptAsync = function(uri){\n",
       "  return new Promise((resolve, reject) => {\n",
       "    //this is to ignore the existence of requirejs amd\n",
       "    var savedexports, savedmodule;\n",
       "    if (typeof exports !== 'undefined') savedexports = exports;\n",
       "    else exports = {}\n",
       "    if (typeof module !== 'undefined') savedmodule = module;\n",
       "    else module = {}\n",
       "\n",
       "    var tag = document.createElement('script');\n",
       "    tag.src = uri;\n",
       "    tag.async = true;\n",
       "    tag.onload = () => {\n",
       "        exports = savedexports;\n",
       "        module = savedmodule;\n",
       "        resolve();\n",
       "    };\n",
       "  var firstScriptTag = document.getElementsByTagName('script')[0];\n",
       "  firstScriptTag.parentNode.insertBefore(tag, firstScriptTag);\n",
       "});\n",
       "};\n",
       "\n",
       "if(typeof $3Dmolpromise === 'undefined') {\n",
       "$3Dmolpromise = null;\n",
       "  $3Dmolpromise = loadScriptAsync('https://cdnjs.cloudflare.com/ajax/libs/3Dmol/2.4.0/3Dmol-min.js');\n",
       "}\n",
       "\n",
       "var viewer_1729095893639928 = null;\n",
       "var warn = document.getElementById(\"3dmolwarning_1729095893639928\");\n",
       "if(warn) {\n",
       "    warn.parentNode.removeChild(warn);\n",
       "}\n",
       "$3Dmolpromise.then(function() {\n",
       "viewer_1729095893639928 = $3Dmol.createViewer(document.getElementById(\"3dmolviewer_1729095893639928\"),{backgroundColor:\"white\"});\n",
       "viewer_1729095893639928.zoomTo();\n",
       "\tviewer_1729095893639928.addModel(\"\\n     RDKit          3D\\n\\n 53 56  0  0  0  0  0  0  0  0999 V2000\\n   -7.4816    1.7229   -0.3034 C   0  0  0  0  0  0  0  0  0  0  0  0\\n   -6.1383    1.4241   -0.9697 C   0  0  0  0  0  0  0  0  0  0  0  0\\n   -5.4434    0.1766   -0.3804 C   0  0  0  0  0  0  0  0  0  0  0  0\\n   -6.1632   -1.1221   -0.7653 C   0  0  0  0  0  0  0  0  0  0  0  0\\n   -4.0081    0.1074   -0.8409 C   0  0  0  0  0  0  0  0  0  0  0  0\\n   -3.7374    0.2665   -2.0632 O   0  0  0  0  0  0  0  0  0  0  0  0\\n   -2.9679   -0.2052    0.0993 N   0  0  0  0  0  0  0  0  0  0  0  0\\n   -1.5693   -0.1812   -0.2280 C   0  0  0  0  0  0  0  0  0  0  0  0\\n   -1.0818    0.3620   -1.3800 N   0  0  0  0  0  0  0  0  0  0  0  0\\n    0.2489    0.2355   -1.2205 C   0  0  0  0  0  0  0  0  0  0  0  0\\n    0.5348   -0.3465   -0.0361 C   0  0  0  0  0  0  0  0  0  0  0  0\\n   -0.6001   -0.6392    0.6113 N   0  0  0  0  0  0  0  0  0  0  0  0\\n   -0.7463   -1.1758    1.9647 C   0  0  0  0  0  0  0  0  0  0  0  0\\n   -0.0140   -2.4893    2.1961 C   0  0  0  0  0  0  0  0  0  0  0  0\\n   -1.5230   -2.4818    2.0262 C   0  0  0  0  0  0  0  0  0  0  0  0\\n    1.8042   -0.5505    0.3871 N   0  0  0  0  0  0  0  0  0  0  0  0\\n    2.8348   -0.1573   -0.4251 C   0  0  0  0  0  0  0  0  0  0  0  0\\n    2.5639    0.4238   -1.6464 N   0  0  0  0  0  0  0  0  0  0  0  0\\n    1.2769    0.6357   -2.0601 C   0  0  0  0  0  0  0  0  0  0  0  0\\n    1.0361    1.1763   -3.1723 O   0  0  0  0  0  0  0  0  0  0  0  0\\n    4.1945   -0.3728    0.0050 N   0  0  0  0  0  0  0  0  0  0  0  0\\n    4.4838   -1.6282    0.7119 C   0  0  0  0  0  0  0  0  0  0  0  0\\n    5.2558    0.6043   -0.3372 C   0  0  0  0  0  0  0  0  0  0  0  0\\n    6.5021    0.4953    0.5053 C   0  0  0  0  0  0  0  0  0  0  0  0\\n    7.0388    1.9100    0.4870 C   0  0  0  0  0  0  0  0  0  0  0  0\\n    5.9716    2.8061    0.2814 O   0  0  0  0  0  0  0  0  0  0  0  0\\n    4.8340    2.0433   -0.0534 C   0  0  0  0  0  0  0  0  0  0  0  0\\n   -7.8834    2.6801   -0.6974 H   0  0  0  0  0  0  0  0  0  0  0  0\\n   -7.3567    1.8206    0.7955 H   0  0  0  0  0  0  0  0  0  0  0  0\\n   -8.2187    0.9233   -0.5221 H   0  0  0  0  0  0  0  0  0  0  0  0\\n   -6.2927    1.3004   -2.0642 H   0  0  0  0  0  0  0  0  0  0  0  0\\n   -5.4829    2.3106   -0.8201 H   0  0  0  0  0  0  0  0  0  0  0  0\\n   -5.4532    0.2631    0.7289 H   0  0  0  0  0  0  0  0  0  0  0  0\\n   -5.6036   -1.9986   -0.3721 H   0  0  0  0  0  0  0  0  0  0  0  0\\n   -6.2423   -1.2170   -1.8699 H   0  0  0  0  0  0  0  0  0  0  0  0\\n   -7.1811   -1.1505   -0.3250 H   0  0  0  0  0  0  0  0  0  0  0  0\\n   -3.2445   -0.4621    1.0728 H   0  0  0  0  0  0  0  0  0  0  0  0\\n   -0.8448   -0.4730    2.8186 H   0  0  0  0  0  0  0  0  0  0  0  0\\n    0.5286   -2.9103    1.3228 H   0  0  0  0  0  0  0  0  0  0  0  0\\n    0.3190   -2.6524    3.2429 H   0  0  0  0  0  0  0  0  0  0  0  0\\n   -2.0890   -2.6299    2.9695 H   0  0  0  0  0  0  0  0  0  0  0  0\\n   -1.8700   -2.8819    1.0490 H   0  0  0  0  0  0  0  0  0  0  0  0\\n    3.3452    0.6958   -2.2834 H   0  0  0  0  0  0  0  0  0  0  0  0\\n    3.8815   -2.4579    0.2827 H   0  0  0  0  0  0  0  0  0  0  0  0\\n    4.2317   -1.5168    1.7870 H   0  0  0  0  0  0  0  0  0  0  0  0\\n    5.5481   -1.9225    0.6074 H   0  0  0  0  0  0  0  0  0  0  0  0\\n    5.5316    0.4994   -1.4104 H   0  0  0  0  0  0  0  0  0  0  0  0\\n    7.2332   -0.2249    0.0780 H   0  0  0  0  0  0  0  0  0  0  0  0\\n    6.2548    0.2210    1.5552 H   0  0  0  0  0  0  0  0  0  0  0  0\\n    7.7700    2.0269   -0.3422 H   0  0  0  0  0  0  0  0  0  0  0  0\\n    7.5488    2.1461    1.4454 H   0  0  0  0  0  0  0  0  0  0  0  0\\n    4.1219    2.0805    0.8005 H   0  0  0  0  0  0  0  0  0  0  0  0\\n    4.3424    2.4903   -0.9430 H   0  0  0  0  0  0  0  0  0  0  0  0\\n  1  2  1  0\\n  2  3  1  0\\n  3  4  1  0\\n  3  5  1  0\\n  5  6  2  0\\n  5  7  1  0\\n  7  8  1  0\\n  8  9  2  0\\n  9 10  1  0\\n 10 11  2  0\\n 11 12  1  0\\n 12 13  1  0\\n 13 14  1  0\\n 14 15  1  0\\n 11 16  1  0\\n 16 17  2  0\\n 17 18  1  0\\n 18 19  1  0\\n 19 20  2  0\\n 17 21  1  0\\n 21 22  1  0\\n 21 23  1  0\\n 23 24  1  0\\n 24 25  1  0\\n 25 26  1  0\\n 26 27  1  0\\n 12  8  1  0\\n 19 10  1  0\\n 15 13  1  0\\n 27 23  1  0\\n  1 28  1  0\\n  1 29  1  0\\n  1 30  1  0\\n  2 31  1  0\\n  2 32  1  0\\n  3 33  1  0\\n  4 34  1  0\\n  4 35  1  0\\n  4 36  1  0\\n  7 37  1  0\\n 13 38  1  0\\n 14 39  1  0\\n 14 40  1  0\\n 15 41  1  0\\n 15 42  1  0\\n 18 43  1  0\\n 22 44  1  0\\n 22 45  1  0\\n 22 46  1  0\\n 23 47  1  0\\n 24 48  1  0\\n 24 49  1  0\\n 25 50  1  0\\n 25 51  1  0\\n 27 52  1  0\\n 27 53  1  0\\nM  END\\n\",\"sdf\");\n",
       "\tviewer_1729095893639928.setStyle({\"stick\": {}});\n",
       "\tviewer_1729095893639928.zoomTo();\n",
       "viewer_1729095893639928.render();\n",
       "});\n",
       "</script>"
      ]
     },
     "metadata": {},
     "output_type": "display_data"
    }
   ],
   "source": [
    "p = draw_mols.draw_3d_sticks(smiles_list[0]) "
   ]
  },
  {
   "cell_type": "code",
   "execution_count": 7,
   "metadata": {},
   "outputs": [],
   "source": [
    "draw_mols.draw_molecule_in_black(smiles_list[0], save_name=\"Remdesivir\")"
   ]
  },
  {
   "cell_type": "code",
   "execution_count": null,
   "metadata": {},
   "outputs": [],
   "source": []
  },
  {
   "cell_type": "code",
   "execution_count": null,
   "metadata": {},
   "outputs": [],
   "source": []
  }
 ],
 "metadata": {
  "kernelspec": {
   "display_name": "chem",
   "language": "python",
   "name": "python3"
  },
  "language_info": {
   "codemirror_mode": {
    "name": "ipython",
    "version": 3
   },
   "file_extension": ".py",
   "mimetype": "text/x-python",
   "name": "python",
   "nbconvert_exporter": "python",
   "pygments_lexer": "ipython3",
   "version": "3.10.14"
  }
 },
 "nbformat": 4,
 "nbformat_minor": 2
}
